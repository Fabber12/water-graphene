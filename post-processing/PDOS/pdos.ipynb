{
 "cells": [
  {
   "cell_type": "markdown",
   "id": "d34ea781",
   "metadata": {},
   "source": [
    "Created on Aug 8 2024\n",
    "\n",
    "@author: Francesco Maria Bellussi"
   ]
  },
  {
   "cell_type": "code",
   "execution_count": null,
   "id": "8589b9e0",
   "metadata": {},
   "outputs": [],
   "source": [
    "import numpy as np\n",
    "import pandas as pd\n",
    "from scipy.fft import fft\n",
    "import matplotlib.pyplot as plt"
   ]
  },
  {
   "cell_type": "markdown",
   "id": "5c6e1132",
   "metadata": {},
   "source": [
    "# VACF Spectral Overlap"
   ]
  },
  {
   "cell_type": "code",
   "execution_count": null,
   "id": "219463d9",
   "metadata": {},
   "outputs": [],
   "source": [
    "Fs = 1/(1*10**-15)          # Sampling frequency\n",
    "T = 1/Fs                    # Sampling period\n",
    "L = 10001                   # Length of signal\n",
    "t = np.arange(0, L) * T     # Time vector\n",
    "\n",
    "# Initialize a list to store each P1 spectrum\n",
    "P1_list = []\n",
    "P12_list = []\n",
    "\n",
    "for i in range(1, 101):\n",
    "    # Read data from file\n",
    "    filename_water = f'../../lammps/PDOS/vacf_water.{i}'\n",
    "    T = pd.read_table(filename_water, delimiter=' ', comment='#', header=None)\n",
    "    V = T.iloc[:, 1].values\n",
    "    \n",
    "    filename_graph = f'../../lammps/PDOS/vacf_graph.{i}'\n",
    "    T2 = pd.read_table(filename_graph, delimiter=' ', comment='#', header=None)\n",
    "    V2 = T2.iloc[:, 1].values\n",
    "    \n",
    "    # Perform FFT\n",
    "    Y = fft(V)\n",
    "    Y2 = fft(V2)\n",
    "    \n",
    "    P2 = np.abs(Y/L)\n",
    "    P1 = P2[:L//2+1]\n",
    "    P1[1:-1] = 2 * P1[1:-1]\n",
    "    \n",
    "    P22 = np.abs(Y2/L)\n",
    "    P12 = P22[:L//2+1]\n",
    "    P12[1:-1] = 2 * P12[1:-1]\n",
    "    \n",
    "    # Store P1 in the list\n",
    "    P1_list.append(P1)\n",
    "    P12_list.append(P12)\n",
    "    \n",
    "    # # Save individual results to file\n",
    "    f = Fs * np.arange(0, (L//2)+1) / (L * 10**12)  # Frequency vector\n",
    "    # A = np.vstack((f, P1)).T\n",
    "    # file_name = f'file_g{i}.txt'\n",
    "    # np.savetxt(file_name, A, fmt='%d %d', header='Frequency(THz) Amplitude')\n",
    "\n",
    "    # # Plot and save individual figure\n",
    "    # plt.figure()\n",
    "    # plt.plot(f, P1, '-')\n",
    "    # plt.title(f'Single-Sided Amplitude Spectrum of X(t) - {i}')\n",
    "    # plt.xlabel('f (THz)')\n",
    "    # plt.ylabel('|DOF|')\n",
    "    # plt.savefig(f'vacf_pla_{i}.png')  # Save as PNG file\n",
    "    # plt.close()\n",
    "\n",
    "# Compute average P1 across all spectra\n",
    "P1_avg = np.mean(P1_list, axis=0)\n",
    "P12_avg = np.mean(P12_list, axis=0)\n",
    "\n",
    "df=f[1]-f[0]\n",
    "\n",
    "S_graph_water=(np.sum(P1_avg*P12_avg)*df)/((np.sum(P1_avg)*np.sum(P12_avg))*df**2)\n",
    "\n",
    "print(\"Overlap Graphene/water : {} \".format(S_graph_water))"
   ]
  },
  {
   "cell_type": "markdown",
   "id": "3188fc95",
   "metadata": {},
   "source": [
    "# Plot"
   ]
  },
  {
   "cell_type": "code",
   "execution_count": null,
   "id": "6f3906cd",
   "metadata": {},
   "outputs": [],
   "source": [
    "cm = 1/2.54\n",
    "plt.figure(figsize=(18*cm, 15*cm))\n",
    "plt.plot(f, P1_avg, '-',color='aqua',label='Water')\n",
    "plt.plot(f, P12_avg, '-',color='maroon',label='Graphene')\n",
    "plt.fill_between(f,P1_avg,color='aqua',alpha=0.3)\n",
    "plt.fill_between(f,P12_avg,color='maroon',alpha=0.3)\n",
    "plt.title('Graphene', x=0.5, y=0.9,fontsize=50*cm)\n",
    "plt.title('Average Single-Sided Amplitude Spectrum of X(t)')\n",
    "plt.xlabel('frequency (THz)',fontsize=50*cm)\n",
    "plt.ylabel('Phonon DOS (a.u.)',fontsize=50*cm)\n",
    "plt.tick_params(axis='x', labelsize=50*cm)\n",
    "plt.tick_params(axis='y', labelsize=50*cm)\n",
    "plt.tick_params(left = False, right = False , labelleft = False , \n",
    "                labelbottom = False, bottom = False)\n",
    "plt.xlim([0, 200])  # Limit the x-axis to 200 THz\n",
    "\n",
    "plt.legend(fontsize=50*cm,loc='upper right')\n",
    "\n",
    "plt.tight_layout()\n",
    "\n",
    "plt.savefig('dos_water-graph.png')  # Save as PNG file\n",
    "plt.savefig('dos_water-graph.pdf')  # Save as PDF file\n",
    "\n",
    "plt.show()"
   ]
  }
 ],
 "metadata": {
  "kernelspec": {
   "display_name": ".lammps_venv",
   "language": "python",
   "name": "python3"
  },
  "language_info": {
   "codemirror_mode": {
    "name": "ipython",
    "version": 3
   },
   "file_extension": ".py",
   "mimetype": "text/x-python",
   "name": "python",
   "nbconvert_exporter": "python",
   "pygments_lexer": "ipython3",
   "version": "3.12.3"
  }
 },
 "nbformat": 4,
 "nbformat_minor": 5
}
